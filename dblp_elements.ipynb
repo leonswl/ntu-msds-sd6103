{
 "cells": [
  {
   "attachments": {},
   "cell_type": "markdown",
   "metadata": {},
   "source": [
    "## EDA on dblp dataset"
   ]
  },
  {
   "cell_type": "code",
   "execution_count": 81,
   "metadata": {},
   "outputs": [],
   "source": [
    "import pandas as pd"
   ]
  },
  {
   "cell_type": "code",
   "execution_count": 83,
   "metadata": {},
   "outputs": [
    {
     "name": "stderr",
     "output_type": "stream",
     "text": [
      "/var/folders/g4/mj9t8ccd7bn74b0c25x8xjth0000gn/T/ipykernel_3436/357738799.py:1: DtypeWarning: Columns (2,4,5,8,11,12,13,14,15,17,18,19,20,22,23) have mixed types. Specify dtype option on import or set low_memory=False.\n",
      "  df = pd.read_csv('artifacts/batch/dblp.csv').drop(['Unnamed: 0.1', 'Unnamed: 0'],axis=1)\n"
     ]
    }
   ],
   "source": [
    "df = pd.read_csv('artifacts/batch/dblp.csv').drop(['Unnamed: 0.1', 'Unnamed: 0'],axis=1)"
   ]
  },
  {
   "cell_type": "code",
   "execution_count": 85,
   "metadata": {},
   "outputs": [
    {
     "data": {
      "text/plain": [
       "Index(['address', 'author', 'booktitle', 'cdrom', 'chapter', 'cite',\n",
       "       'crossref', 'editor', 'ee', 'isbn', 'journal', 'month', 'note',\n",
       "       'number', 'pages', 'publisher', 'publnr', 'school', 'series', 'title',\n",
       "       'url', 'volume', 'year', 'tag'],\n",
       "      dtype='object')"
      ]
     },
     "execution_count": 85,
     "metadata": {},
     "output_type": "execute_result"
    }
   ],
   "source": [
    "df.columns"
   ]
  },
  {
   "attachments": {},
   "cell_type": "markdown",
   "metadata": {},
   "source": [
    "These are the unique types of tags in the data. "
   ]
  },
  {
   "cell_type": "code",
   "execution_count": 86,
   "metadata": {},
   "outputs": [
    {
     "data": {
      "text/plain": [
       "array(['article', 'proceedings', 'inproceedings', 'book', 'www',\n",
       "       'mastersthesis', 'incollection', 'phdthesis', 'data'], dtype=object)"
      ]
     },
     "execution_count": 86,
     "metadata": {},
     "output_type": "execute_result"
    }
   ],
   "source": [
    "df.tag.unique()"
   ]
  },
  {
   "attachments": {},
   "cell_type": "markdown",
   "metadata": {},
   "source": [
    "We want to determine which features have values and are thus tied to the tag. Features that have null values for all records in each tag are thus not relevant to it."
   ]
  },
  {
   "cell_type": "code",
   "execution_count": 87,
   "metadata": {},
   "outputs": [],
   "source": [
    "tag_features = {} # initialise empty dictionary\n",
    "# iterate through each unique tag to determine which features is not null and are thus part of the tag\n",
    "for tag in df.tag.unique():\n",
    "    df_tag = df.loc[df['tag'] ==tag].drop(['tag'],axis=1) # locate rows specific to the tag\n",
    "    df_na = pd.DataFrame(df_tag.isna().sum()).reset_index() # create a dataframe of features with sum of na values\n",
    "    features = [row['index'].strip() for index, row in df_na.iterrows() if row[0] == 0] # add features to list features does not have na values\n",
    "    tag_features[tag] = features # add tag as key and features as value to dictionary\n"
   ]
  },
  {
   "attachments": {},
   "cell_type": "markdown",
   "metadata": {},
   "source": [
    "Listing features present for each tag"
   ]
  },
  {
   "cell_type": "code",
   "execution_count": 88,
   "metadata": {},
   "outputs": [
    {
     "name": "stdout",
     "output_type": "stream",
     "text": [
      "article ['author', 'cite', 'editor', 'ee', 'title']\n",
      "proceedings ['author', 'cite', 'editor', 'ee', 'title', 'year']\n",
      "inproceedings ['author', 'booktitle', 'cite', 'editor', 'ee', 'title', 'url', 'year']\n",
      "book ['author', 'cite', 'editor', 'ee', 'title', 'year']\n",
      "www ['author', 'cite', 'editor', 'ee']\n",
      "mastersthesis ['author', 'cite', 'editor', 'ee', 'school', 'title', 'year']\n",
      "incollection ['author', 'booktitle', 'cite', 'editor', 'ee', 'title', 'url', 'year']\n",
      "phdthesis ['author', 'cite', 'editor', 'ee', 'title', 'year']\n",
      "data ['author', 'cite', 'editor', 'ee']\n"
     ]
    },
    {
     "data": {
      "text/plain": [
       "[None, None, None, None, None, None, None, None, None]"
      ]
     },
     "execution_count": 88,
     "metadata": {},
     "output_type": "execute_result"
    }
   ],
   "source": [
    "[print(k,v) for k,v in tag_features.items()]"
   ]
  }
 ],
 "metadata": {
  "kernelspec": {
   "display_name": ".venv",
   "language": "python",
   "name": "python3"
  },
  "language_info": {
   "codemirror_mode": {
    "name": "ipython",
    "version": 3
   },
   "file_extension": ".py",
   "mimetype": "text/x-python",
   "name": "python",
   "nbconvert_exporter": "python",
   "pygments_lexer": "ipython3",
   "version": "3.10.10"
  },
  "orig_nbformat": 4
 },
 "nbformat": 4,
 "nbformat_minor": 2
}
