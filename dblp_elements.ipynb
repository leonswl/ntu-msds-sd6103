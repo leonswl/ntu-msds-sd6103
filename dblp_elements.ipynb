{
 "cells": [
  {
   "attachments": {},
   "cell_type": "markdown",
   "metadata": {},
   "source": [
    "## EDA on dblp dataset"
   ]
  },
  {
   "cell_type": "code",
   "execution_count": 49,
   "metadata": {},
   "outputs": [],
   "source": [
    "import pandas as pd\n",
    "import numpy as np"
   ]
  },
  {
   "cell_type": "code",
   "execution_count": 55,
   "metadata": {},
   "outputs": [],
   "source": [
    "df = pd.read_csv('artifacts/dblp.csv',low_memory=False).drop(['Unnamed: 0'],axis=1).replace('[]',np.nan)"
   ]
  },
  {
   "cell_type": "code",
   "execution_count": 56,
   "metadata": {},
   "outputs": [
    {
     "data": {
      "text/plain": [
       "Index(['address', 'author', 'booktitle', 'cdrom', 'chapter', 'cite',\n",
       "       'crossref', 'editor', 'ee', 'isbn', 'journal', 'month', 'note',\n",
       "       'number', 'pages', 'publisher', 'publnr', 'school', 'series', 'title',\n",
       "       'url', 'volume', 'year', 'tag'],\n",
       "      dtype='object')"
      ]
     },
     "execution_count": 56,
     "metadata": {},
     "output_type": "execute_result"
    }
   ],
   "source": [
    "df.columns"
   ]
  },
  {
   "attachments": {},
   "cell_type": "markdown",
   "metadata": {},
   "source": [
    "These are the unique types of tags in the data. "
   ]
  },
  {
   "cell_type": "code",
   "execution_count": 57,
   "metadata": {},
   "outputs": [
    {
     "data": {
      "text/plain": [
       "array(['article', 'book', 'proceedings', 'inproceedings', 'www',\n",
       "       'mastersthesis', 'incollection', 'data', 'phdthesis'], dtype=object)"
      ]
     },
     "execution_count": 57,
     "metadata": {},
     "output_type": "execute_result"
    }
   ],
   "source": [
    "df.tag.unique()"
   ]
  },
  {
   "attachments": {},
   "cell_type": "markdown",
   "metadata": {},
   "source": [
    "We want to determine which features have values and are thus tied to the tag. Features that have null values for all records in each tag are thus not relevant to it."
   ]
  },
  {
   "cell_type": "code",
   "execution_count": 58,
   "metadata": {},
   "outputs": [],
   "source": [
    "tag_features = {} # initialise empty dictionary\n",
    "# iterate through each unique tag to determine which features is not null and are thus part of the tag\n",
    "for tag in df.tag.unique():\n",
    "    df_tag = df.loc[df['tag']==tag].drop(['tag'],axis=1) # locate rows specific to the tag\n",
    "    df_na = pd.DataFrame(df_tag.isna().sum()).reset_index() # create a dataframe of features with sum of na values\n",
    "    df_na.columns = ['tag_type','na_count'] # rename columns\n",
    "    # create new column contain count of non-na cells, calculated as (number of records for each tag - number of records with na cells)\n",
    "    df_na['non_na_count'] = len(df_tag)-df_na['na_count'] \n",
    "    features = [row['tag_type'].strip() for index, row in df_na.iterrows() if row['non_na_count'] > 0] # add features to list features does not have na values\n",
    "    tag_features[tag] = features # add tag as key and features as value to dictionary"
   ]
  },
  {
   "attachments": {},
   "cell_type": "markdown",
   "metadata": {},
   "source": [
    "Listing features present for each tag"
   ]
  },
  {
   "cell_type": "code",
   "execution_count": 59,
   "metadata": {},
   "outputs": [
    {
     "name": "stdout",
     "output_type": "stream",
     "text": [
      "article ['author', 'booktitle', 'cdrom', 'cite', 'crossref', 'editor', 'ee', 'journal', 'month', 'note', 'number', 'pages', 'publisher', 'publnr', 'title', 'url', 'volume', 'year']\n",
      "book ['author', 'booktitle', 'cdrom', 'cite', 'crossref', 'editor', 'ee', 'isbn', 'month', 'note', 'pages', 'publisher', 'school', 'series', 'title', 'url', 'volume', 'year']\n",
      "proceedings ['address', 'author', 'booktitle', 'cite', 'editor', 'ee', 'isbn', 'journal', 'note', 'number', 'pages', 'publisher', 'school', 'series', 'title', 'url', 'volume', 'year']\n",
      "inproceedings ['author', 'booktitle', 'cdrom', 'cite', 'crossref', 'editor', 'ee', 'month', 'note', 'number', 'pages', 'title', 'url', 'volume', 'year']\n",
      "www ['author', 'cite', 'crossref', 'editor', 'ee', 'note', 'title', 'url', 'year']\n",
      "mastersthesis ['author', 'ee', 'note', 'school', 'title', 'year']\n",
      "incollection ['author', 'booktitle', 'cdrom', 'chapter', 'cite', 'crossref', 'ee', 'note', 'number', 'pages', 'publisher', 'title', 'url', 'year']\n",
      "data ['author', 'crossref', 'ee', 'month', 'number', 'publisher', 'title', 'year']\n",
      "phdthesis ['author', 'ee', 'isbn', 'month', 'note', 'number', 'pages', 'publisher', 'school', 'series', 'title', 'volume', 'year']\n"
     ]
    },
    {
     "data": {
      "text/plain": [
       "[None, None, None, None, None, None, None, None, None]"
      ]
     },
     "execution_count": 59,
     "metadata": {},
     "output_type": "execute_result"
    }
   ],
   "source": [
    "[print(k,v) for k,v in tag_features.items()]"
   ]
  },
  {
   "attachments": {},
   "cell_type": "markdown",
   "metadata": {},
   "source": [
    "Number of features in each document tag"
   ]
  },
  {
   "cell_type": "code",
   "execution_count": 60,
   "metadata": {},
   "outputs": [
    {
     "name": "stdout",
     "output_type": "stream",
     "text": [
      "article 18\n",
      "book 18\n",
      "proceedings 18\n",
      "inproceedings 15\n",
      "www 9\n",
      "mastersthesis 6\n",
      "incollection 14\n",
      "data 8\n",
      "phdthesis 13\n"
     ]
    },
    {
     "data": {
      "text/plain": [
       "[None, None, None, None, None, None, None, None, None]"
      ]
     },
     "execution_count": 60,
     "metadata": {},
     "output_type": "execute_result"
    }
   ],
   "source": [
    "[print(k,len(v)) for k,v in tag_features.items()]"
   ]
  }
 ],
 "metadata": {
  "kernelspec": {
   "display_name": ".venv",
   "language": "python",
   "name": "python3"
  },
  "language_info": {
   "codemirror_mode": {
    "name": "ipython",
    "version": 3
   },
   "file_extension": ".py",
   "mimetype": "text/x-python",
   "name": "python",
   "nbconvert_exporter": "python",
   "pygments_lexer": "ipython3",
   "version": "3.10.10"
  },
  "orig_nbformat": 4
 },
 "nbformat": 4,
 "nbformat_minor": 2
}
