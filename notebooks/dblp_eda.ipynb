{
 "cells": [
  {
   "cell_type": "code",
   "execution_count": 7,
   "metadata": {},
   "outputs": [],
   "source": [
    "import polars as pl\n",
    "import numpy as np"
   ]
  },
  {
   "cell_type": "code",
   "execution_count": 27,
   "metadata": {},
   "outputs": [],
   "source": [
    "df = pl.read_csv('../artifacts/publication.csv',low_memory=True)"
   ]
  },
  {
   "cell_type": "code",
   "execution_count": 28,
   "metadata": {},
   "outputs": [
    {
     "data": {
      "text/html": [
       "<div><style>\n",
       ".dataframe > thead > tr > th,\n",
       ".dataframe > tbody > tr > td {\n",
       "  text-align: right;\n",
       "}\n",
       "</style>\n",
       "<small>shape: (5, 15)</small><table border=\"1\" class=\"dataframe\"><thead><tr><th>Id</th><th>booktitle</th><th>journal</th><th>month</th><th>publisher</th><th>school</th><th>series</th><th>title</th><th>year</th><th>tag</th><th>PubKey</th><th>publtype</th><th>mdate</th><th>PubKey1</th><th>PubKey2</th></tr><tr><td>i64</td><td>str</td><td>str</td><td>str</td><td>str</td><td>str</td><td>str</td><td>str</td><td>i64</td><td>str</td><td>str</td><td>str</td><td>str</td><td>str</td><td>str</td></tr></thead><tbody><tr><td>0</td><td>null</td><td>&quot;meltdownattack…</td><td>null</td><td>null</td><td>null</td><td>null</td><td>&quot;Spectre Attack…</td><td>2018</td><td>&quot;article&quot;</td><td>&quot;tr/meltdown/s1…</td><td>&quot;informal&quot;</td><td>&quot;2020-06-25&quot;</td><td>&quot;tr&quot;</td><td>&quot;meltdown&quot;</td></tr><tr><td>1</td><td>null</td><td>&quot;meltdownattack…</td><td>null</td><td>null</td><td>null</td><td>null</td><td>&quot;Meltdown&quot;</td><td>2018</td><td>&quot;article&quot;</td><td>&quot;tr/meltdown/m1…</td><td>&quot;informal&quot;</td><td>&quot;2020-06-25&quot;</td><td>&quot;tr&quot;</td><td>&quot;meltdown&quot;</td></tr><tr><td>2</td><td>null</td><td>null</td><td>null</td><td>&quot;ACM Press and …</td><td>null</td><td>null</td><td>&quot;Computer Scien…</td><td>2013</td><td>&quot;book&quot;</td><td>&quot;tr/acm/CS2013&quot;</td><td>null</td><td>&quot;2021-07-31&quot;</td><td>&quot;tr&quot;</td><td>&quot;acm&quot;</td></tr><tr><td>3</td><td>null</td><td>&quot;GTE Laboratori…</td><td>&quot;August&quot;</td><td>null</td><td>null</td><td>null</td><td>&quot;An Evaluation …</td><td>1994</td><td>&quot;article&quot;</td><td>&quot;tr/gte/TR-0263…</td><td>&quot;informal&quot;</td><td>&quot;2019-10-25&quot;</td><td>&quot;tr&quot;</td><td>&quot;gte&quot;</td></tr><tr><td>4</td><td>null</td><td>&quot;GTE Laboratori…</td><td>&quot;March&quot;</td><td>null</td><td>null</td><td>null</td><td>&quot;DARWIN: On the…</td><td>1993</td><td>&quot;article&quot;</td><td>&quot;tr/gte/TR-0222…</td><td>&quot;informal&quot;</td><td>&quot;2019-10-25&quot;</td><td>&quot;tr&quot;</td><td>&quot;gte&quot;</td></tr></tbody></table></div>"
      ],
      "text/plain": [
       "shape: (5, 15)\n",
       "┌─────┬───────────┬──────────────────────┬────────┬───┬──────────┬────────────┬─────────┬──────────┐\n",
       "│ Id  ┆ booktitle ┆ journal              ┆ month  ┆ … ┆ publtype ┆ mdate      ┆ PubKey1 ┆ PubKey2  │\n",
       "│ --- ┆ ---       ┆ ---                  ┆ ---    ┆   ┆ ---      ┆ ---        ┆ ---     ┆ ---      │\n",
       "│ i64 ┆ str       ┆ str                  ┆ str    ┆   ┆ str      ┆ str        ┆ str     ┆ str      │\n",
       "╞═════╪═══════════╪══════════════════════╪════════╪═══╪══════════╪════════════╪═════════╪══════════╡\n",
       "│ 0   ┆ null      ┆ meltdownattack.com   ┆ null   ┆ … ┆ informal ┆ 2020-06-25 ┆ tr      ┆ meltdown │\n",
       "│ 1   ┆ null      ┆ meltdownattack.com   ┆ null   ┆ … ┆ informal ┆ 2020-06-25 ┆ tr      ┆ meltdown │\n",
       "│ 2   ┆ null      ┆ null                 ┆ null   ┆ … ┆ null     ┆ 2021-07-31 ┆ tr      ┆ acm      │\n",
       "│ 3   ┆ null      ┆ GTE Laboratories     ┆ August ┆ … ┆ informal ┆ 2019-10-25 ┆ tr      ┆ gte      │\n",
       "│     ┆           ┆ Incorporated         ┆        ┆   ┆          ┆            ┆         ┆          │\n",
       "│ 4   ┆ null      ┆ GTE Laboratories     ┆ March  ┆ … ┆ informal ┆ 2019-10-25 ┆ tr      ┆ gte      │\n",
       "│     ┆           ┆ Incorporated         ┆        ┆   ┆          ┆            ┆         ┆          │\n",
       "└─────┴───────────┴──────────────────────┴────────┴───┴──────────┴────────────┴─────────┴──────────┘"
      ]
     },
     "execution_count": 28,
     "metadata": {},
     "output_type": "execute_result"
    }
   ],
   "source": [
    "df.head()"
   ]
  },
  {
   "cell_type": "code",
   "execution_count": 5,
   "metadata": {},
   "outputs": [
    {
     "data": {
      "text/plain": [
       "Index(['address', 'booktitle', 'cdrom', 'chapter', 'cite', 'crossref',\n",
       "       'editor', 'ee', 'isbn', 'journal', 'month', 'note', 'number', 'pages',\n",
       "       'publisher', 'publnr', 'school', 'series', 'title', 'url', 'volume',\n",
       "       'year', 'tag', 'PubKey', 'publtype', 'mdate', 'PubKey1', 'PubKey2',\n",
       "       'PubKey3', 'PubKey4', 'PubKey5'],\n",
       "      dtype='object')"
      ]
     },
     "execution_count": 5,
     "metadata": {},
     "output_type": "execute_result"
    }
   ],
   "source": [
    "df.columns"
   ]
  },
  {
   "cell_type": "code",
   "execution_count": 20,
   "metadata": {},
   "outputs": [
    {
     "data": {
      "text/plain": [
       "(9779590, 31)"
      ]
     },
     "execution_count": 20,
     "metadata": {},
     "output_type": "execute_result"
    }
   ],
   "source": [
    "df.shape"
   ]
  },
  {
   "cell_type": "code",
   "execution_count": 24,
   "metadata": {},
   "outputs": [
    {
     "data": {
      "text/plain": [
       "9779590"
      ]
     },
     "execution_count": 24,
     "metadata": {},
     "output_type": "execute_result"
    }
   ],
   "source": [
    "len(df)"
   ]
  },
  {
   "cell_type": "code",
   "execution_count": 21,
   "metadata": {},
   "outputs": [
    {
     "data": {
      "text/plain": [
       "range(0, 9779590)"
      ]
     },
     "execution_count": 21,
     "metadata": {},
     "output_type": "execute_result"
    }
   ],
   "source": [
    "range(9779590)"
   ]
  },
  {
   "cell_type": "code",
   "execution_count": 23,
   "metadata": {},
   "outputs": [
    {
     "ename": "TypeError",
     "evalue": "'DataFrame' object does not support 'Series' assignment by index. Use 'DataFrame.with_columns'",
     "output_type": "error",
     "traceback": [
      "\u001b[0;31m---------------------------------------------------------------------------\u001b[0m",
      "\u001b[0;31mTypeError\u001b[0m                                 Traceback (most recent call last)",
      "Cell \u001b[0;32mIn[23], line 1\u001b[0m\n\u001b[0;32m----> 1\u001b[0m df[\u001b[39m'\u001b[39;49m\u001b[39mId\u001b[39;49m\u001b[39m'\u001b[39;49m] \u001b[39m=\u001b[39m \u001b[39mrange\u001b[39m(\u001b[39m9779590\u001b[39m)\n",
      "File \u001b[0;32m~/Documents/GitHub/ntu/ntu-msds-sd6103/.venv/lib/python3.10/site-packages/polars/dataframe/frame.py:1672\u001b[0m, in \u001b[0;36mDataFrame.__setitem__\u001b[0;34m(self, key, value)\u001b[0m\n\u001b[1;32m   1665\u001b[0m \u001b[39mdef\u001b[39;00m \u001b[39m__setitem__\u001b[39m(\n\u001b[1;32m   1666\u001b[0m     \u001b[39mself\u001b[39m,\n\u001b[1;32m   1667\u001b[0m     key: \u001b[39mstr\u001b[39m \u001b[39m|\u001b[39m Sequence[\u001b[39mint\u001b[39m] \u001b[39m|\u001b[39m Sequence[\u001b[39mstr\u001b[39m] \u001b[39m|\u001b[39m \u001b[39mtuple\u001b[39m[Any, \u001b[39mstr\u001b[39m \u001b[39m|\u001b[39m \u001b[39mint\u001b[39m],\n\u001b[1;32m   1668\u001b[0m     value: Any,\n\u001b[1;32m   1669\u001b[0m ) \u001b[39m-\u001b[39m\u001b[39m>\u001b[39m \u001b[39mNone\u001b[39;00m:  \u001b[39m# pragma: no cover\u001b[39;00m\n\u001b[1;32m   1670\u001b[0m     \u001b[39m# df[\"foo\"] = series\u001b[39;00m\n\u001b[1;32m   1671\u001b[0m     \u001b[39mif\u001b[39;00m \u001b[39misinstance\u001b[39m(key, \u001b[39mstr\u001b[39m):\n\u001b[0;32m-> 1672\u001b[0m         \u001b[39mraise\u001b[39;00m \u001b[39mTypeError\u001b[39;00m(\n\u001b[1;32m   1673\u001b[0m             \u001b[39m\"\u001b[39m\u001b[39m'\u001b[39m\u001b[39mDataFrame\u001b[39m\u001b[39m'\u001b[39m\u001b[39m object does not support \u001b[39m\u001b[39m'\u001b[39m\u001b[39mSeries\u001b[39m\u001b[39m'\u001b[39m\u001b[39m assignment by index. \u001b[39m\u001b[39m\"\u001b[39m\n\u001b[1;32m   1674\u001b[0m             \u001b[39m\"\u001b[39m\u001b[39mUse \u001b[39m\u001b[39m'\u001b[39m\u001b[39mDataFrame.with_columns\u001b[39m\u001b[39m'\u001b[39m\u001b[39m\"\u001b[39m\n\u001b[1;32m   1675\u001b[0m         )\n\u001b[1;32m   1677\u001b[0m     \u001b[39m# df[[\"C\", \"D\"]]\u001b[39;00m\n\u001b[1;32m   1678\u001b[0m     \u001b[39melif\u001b[39;00m \u001b[39misinstance\u001b[39m(key, \u001b[39mlist\u001b[39m):\n\u001b[1;32m   1679\u001b[0m         \u001b[39m# TODO: Use python sequence constructors\u001b[39;00m\n",
      "\u001b[0;31mTypeError\u001b[0m: 'DataFrame' object does not support 'Series' assignment by index. Use 'DataFrame.with_columns'"
     ]
    }
   ],
   "source": [
    "df_publication_id = pl.DataFrame(range(9779590),schema=[('Id')])"
   ]
  },
  {
   "cell_type": "code",
   "execution_count": 38,
   "metadata": {},
   "outputs": [
    {
     "data": {
      "text/plain": [
       "PubKey2\n",
       "10         3345\n",
       "4or           8\n",
       "Codd69        1\n",
       "Codd71        1\n",
       "Codd71a       1\n",
       "           ... \n",
       "vtm          17\n",
       "wcl          36\n",
       "winet        32\n",
       "wpc         106\n",
       "www          42\n",
       "Length: 603, dtype: int64"
      ]
     },
     "execution_count": 38,
     "metadata": {},
     "output_type": "execute_result"
    }
   ],
   "source": [
    "df.loc[df['month'] != ''].groupby(['PubKey2']).size()"
   ]
  },
  {
   "attachments": {},
   "cell_type": "markdown",
   "metadata": {},
   "source": [
    "### Query Question #1 - Validation"
   ]
  },
  {
   "cell_type": "code",
   "execution_count": 12,
   "metadata": {},
   "outputs": [
    {
     "data": {
      "text/plain": [
       "tag\n",
       "article          3107301\n",
       "book               19835\n",
       "data                3346\n",
       "incollection       69609\n",
       "inproceedings    3211095\n",
       "mastersthesis         21\n",
       "phdthesis         105947\n",
       "proceedings        54107\n",
       "www              3208329\n",
       "Name: PubKey, dtype: int64"
      ]
     },
     "execution_count": 12,
     "metadata": {},
     "output_type": "execute_result"
    }
   ],
   "source": [
    "df.groupby(['tag'])['PubKey'].count()"
   ]
  }
 ],
 "metadata": {
  "kernelspec": {
   "display_name": ".venv",
   "language": "python",
   "name": "python3"
  },
  "language_info": {
   "codemirror_mode": {
    "name": "ipython",
    "version": 3
   },
   "file_extension": ".py",
   "mimetype": "text/x-python",
   "name": "python",
   "nbconvert_exporter": "python",
   "pygments_lexer": "ipython3",
   "version": "3.10.10"
  },
  "orig_nbformat": 4
 },
 "nbformat": 4,
 "nbformat_minor": 2
}
