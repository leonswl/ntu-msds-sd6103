{
 "cells": [
  {
   "attachments": {},
   "cell_type": "markdown",
   "metadata": {},
   "source": [
    "## EDA on dblp dataset"
   ]
  },
  {
   "cell_type": "code",
   "execution_count": 1,
   "metadata": {},
   "outputs": [],
   "source": [
    "import pandas as pd\n",
    "import numpy as np"
   ]
  },
  {
   "cell_type": "code",
   "execution_count": 5,
   "metadata": {},
   "outputs": [],
   "source": [
    "df = pd.read_csv('../artifacts/dblp.csv',engine='pyarrow').replace('[]',np.nan)"
   ]
  },
  {
   "cell_type": "code",
   "execution_count": 7,
   "metadata": {},
   "outputs": [
    {
     "data": {
      "text/plain": [
       "Index(['', 'address', 'author', 'booktitle', 'cdrom', 'chapter', 'cite',\n",
       "       'crossref', 'editor', 'ee', 'isbn', 'journal', 'month', 'note',\n",
       "       'number', 'pages', 'publisher', 'publnr', 'school', 'series', 'title',\n",
       "       'url', 'volume', 'year', 'tag', 'key', 'publtype', 'mdate'],\n",
       "      dtype='object')"
      ]
     },
     "execution_count": 7,
     "metadata": {},
     "output_type": "execute_result"
    }
   ],
   "source": [
    "df.columns"
   ]
  },
  {
   "cell_type": "code",
   "execution_count": 14,
   "metadata": {},
   "outputs": [
    {
     "data": {
      "text/plain": [
       "Index(['address', 'author', 'booktitle', 'cdrom', 'chapter', 'cite',\n",
       "       'crossref', 'editor', 'ee', 'isbn', 'journal', 'month', 'note',\n",
       "       'number', 'pages', 'publisher', 'publnr', 'school', 'series', 'title',\n",
       "       'url', 'volume', 'year', 'tag', 'key', 'publtype'],\n",
       "      dtype='object')"
      ]
     },
     "execution_count": 14,
     "metadata": {},
     "output_type": "execute_result"
    }
   ],
   "source": [
    "df.columns"
   ]
  },
  {
   "cell_type": "code",
   "execution_count": 19,
   "metadata": {},
   "outputs": [
    {
     "data": {
      "text/plain": [
       "9779590"
      ]
     },
     "execution_count": 19,
     "metadata": {},
     "output_type": "execute_result"
    }
   ],
   "source": [
    "df.loc[df['tag']==]"
   ]
  },
  {
   "cell_type": "code",
   "execution_count": 21,
   "metadata": {},
   "outputs": [
    {
     "data": {
      "text/plain": [
       "(9779590, 26)"
      ]
     },
     "execution_count": 21,
     "metadata": {},
     "output_type": "execute_result"
    }
   ],
   "source": [
    "df.shape"
   ]
  },
  {
   "cell_type": "code",
   "execution_count": 15,
   "metadata": {},
   "outputs": [
    {
     "data": {
      "text/plain": [
       "array(['informal', nan, 'encyclopedia', 'withdrawn', 'data', 'software',\n",
       "       'informal withdrawn', 'survey', 'edited', 'version', 'concept',\n",
       "       'habil', 'disambiguation', 'noshow', 'group'], dtype=object)"
      ]
     },
     "execution_count": 15,
     "metadata": {},
     "output_type": "execute_result"
    }
   ],
   "source": [
    "df.publtype.unique()"
   ]
  },
  {
   "attachments": {},
   "cell_type": "markdown",
   "metadata": {},
   "source": [
    "These are the unique types of tags in the data. "
   ]
  },
  {
   "cell_type": "code",
   "execution_count": 13,
   "metadata": {},
   "outputs": [
    {
     "data": {
      "text/plain": [
       "array(['article', 'book', 'proceedings', 'inproceedings', 'www',\n",
       "       'mastersthesis', 'incollection', 'data', 'phdthesis'], dtype=object)"
      ]
     },
     "execution_count": 13,
     "metadata": {},
     "output_type": "execute_result"
    }
   ],
   "source": [
    "df.tag.unique()"
   ]
  },
  {
   "attachments": {},
   "cell_type": "markdown",
   "metadata": {},
   "source": [
    "We want to determine which features have values and are thus tied to the tag. Features that have null values for all records in each tag are thus not relevant to it."
   ]
  },
  {
   "cell_type": "code",
   "execution_count": 62,
   "metadata": {},
   "outputs": [
    {
     "name": "stdout",
     "output_type": "stream",
     "text": [
      "article\n",
      "     tag_type  na_count  non_na_count\n",
      "0     address   3107301             0\n",
      "1      author     17297       3090004\n",
      "2   booktitle   3107299             2\n",
      "3       cdrom   3103300          4001\n",
      "4     chapter   3107301             0\n",
      "5        cite   3105461          1840\n",
      "6    crossref   3105136          2165\n",
      "7      editor   3107286            15\n",
      "8          ee     23874       3083427\n",
      "9        isbn   3107301             0\n",
      "10    journal         5       3107296\n",
      "11      month   3071817         35484\n",
      "12       note   3105940          1361\n",
      "13     number    987824       2119477\n",
      "14      pages    600815       2506486\n",
      "15  publisher   3107073           228\n",
      "16     publnr   3103238          4063\n",
      "17     school   3107301             0\n",
      "18     series   3107301             0\n",
      "19      title         0       3107301\n",
      "20        url       551       3106750\n",
      "21     volume        67       3107234\n",
      "22       year         3       3107298\n",
      "------\n",
      "book\n",
      "     tag_type  na_count  non_na_count\n",
      "0     address     19835             0\n",
      "1      author      2451         17384\n",
      "2   booktitle     17777          2058\n",
      "3       cdrom     19834             1\n",
      "4     chapter     19835             0\n",
      "5        cite     19825            10\n",
      "6    crossref     19764            71\n",
      "7      editor     17486          2349\n",
      "8          ee      6731         13104\n",
      "9        isbn      2961         16874\n",
      "10    journal     19835             0\n",
      "11      month     19834             1\n",
      "12       note     19820            15\n",
      "13     number     19835             0\n",
      "14      pages      6141         13694\n",
      "15  publisher      1654         18181\n",
      "16     publnr     19835             0\n",
      "17     school     17811          2024\n",
      "18     series     11064          8771\n",
      "19      title         0         19835\n",
      "20        url     17364          2471\n",
      "21     volume     15738          4097\n",
      "22       year         0         19835\n",
      "------\n",
      "proceedings\n",
      "     tag_type  na_count  non_na_count\n",
      "0     address     54104             3\n",
      "1      author     54100             7\n",
      "2   booktitle       526         53581\n",
      "3       cdrom     54107             0\n",
      "4     chapter     54107             0\n",
      "5        cite     54106             1\n",
      "6    crossref     54107             0\n",
      "7      editor     13549         40558\n",
      "8          ee      5648         48459\n",
      "9        isbn      9130         44977\n",
      "10    journal     54103             4\n",
      "11      month     54107             0\n",
      "12       note     53820           287\n",
      "13     number     53815           292\n",
      "14      pages     54097            10\n",
      "15  publisher      1647         52460\n",
      "16     publnr     54107             0\n",
      "17     school     54106             1\n",
      "18     series     29751         24356\n",
      "19      title         0         54107\n",
      "20        url        52         54055\n",
      "21     volume     30171         23936\n",
      "22       year         0         54107\n",
      "------\n",
      "inproceedings\n",
      "     tag_type  na_count  non_na_count\n",
      "0     address   3211095             0\n",
      "1      author      4881       3206214\n",
      "2   booktitle         0       3211095\n",
      "3       cdrom   3202613          8482\n",
      "4     chapter   3211095             0\n",
      "5        cite   3204725          6370\n",
      "6    crossref      1145       3209950\n",
      "7      editor   3211085            10\n",
      "8          ee    135904       3075191\n",
      "9        isbn   3211095             0\n",
      "10    journal   3211095             0\n",
      "11      month   3211094             1\n",
      "12       note   3210772           323\n",
      "13     number   3210741           354\n",
      "14      pages    170676       3040419\n",
      "15  publisher   3211095             0\n",
      "16     publnr   3211095             0\n",
      "17     school   3211095             0\n",
      "18     series   3211095             0\n",
      "19      title         0       3211095\n",
      "20        url         0       3211095\n",
      "21     volume   3211074            21\n",
      "22       year         0       3211095\n",
      "------\n",
      "www\n",
      "     tag_type  na_count  non_na_count\n",
      "0     address   3208329             0\n",
      "1      author       798       3207531\n",
      "2   booktitle   3208329             0\n",
      "3       cdrom   3208329             0\n",
      "4     chapter   3208329             0\n",
      "5        cite   3208139           190\n",
      "6    crossref   3207542           787\n",
      "7      editor   3208323             6\n",
      "8          ee   3208313            16\n",
      "9        isbn   3208329             0\n",
      "10    journal   3208329             0\n",
      "11      month   3208329             0\n",
      "12       note   3081335        126994\n",
      "13     number   3208329             0\n",
      "14      pages   3208329             0\n",
      "15  publisher   3208329             0\n",
      "16     publnr   3208329             0\n",
      "17     school   3208329             0\n",
      "18     series   3208329             0\n",
      "19      title       770       3207559\n",
      "20        url   3051584        156745\n",
      "21     volume   3208329             0\n",
      "22       year   3208313            16\n",
      "------\n",
      "mastersthesis\n",
      "     tag_type  na_count  non_na_count\n",
      "0     address        21             0\n",
      "1      author         0            21\n",
      "2   booktitle        21             0\n",
      "3       cdrom        21             0\n",
      "4     chapter        21             0\n",
      "5        cite        21             0\n",
      "6    crossref        21             0\n",
      "7      editor        21             0\n",
      "8          ee         5            16\n",
      "9        isbn        21             0\n",
      "10    journal        21             0\n",
      "11      month        21             0\n",
      "12       note        12             9\n",
      "13     number        21             0\n",
      "14      pages        21             0\n",
      "15  publisher        21             0\n",
      "16     publnr        21             0\n",
      "17     school         0            21\n",
      "18     series        21             0\n",
      "19      title         0            21\n",
      "20        url        21             0\n",
      "21     volume        21             0\n",
      "22       year         0            21\n",
      "------\n",
      "incollection\n",
      "     tag_type  na_count  non_na_count\n",
      "0     address     69609             0\n",
      "1      author     10804         58805\n",
      "2   booktitle         0         69609\n",
      "3       cdrom     69556            53\n",
      "4     chapter     69607             2\n",
      "5        cite     69567            42\n",
      "6    crossref      2633         66976\n",
      "7      editor     69609             0\n",
      "8          ee      3439         66170\n",
      "9        isbn     69609             0\n",
      "10    journal     69609             0\n",
      "11      month     69609             0\n",
      "12       note     69587            22\n",
      "13     number     69562            47\n",
      "14      pages      7854         61755\n",
      "15  publisher     69518            91\n",
      "16     publnr     69609             0\n",
      "17     school     69609             0\n",
      "18     series     69609             0\n",
      "19      title         0         69609\n",
      "20        url         0         69609\n",
      "21     volume     69609             0\n",
      "22       year         0         69609\n",
      "------\n",
      "data\n",
      "     tag_type  na_count  non_na_count\n",
      "0     address      3346             0\n",
      "1      author         1          3345\n",
      "2   booktitle      3346             0\n",
      "3       cdrom      3346             0\n",
      "4     chapter      3346             0\n",
      "5        cite      3346             0\n",
      "6    crossref      3343             3\n",
      "7      editor      3346             0\n",
      "8          ee         0          3346\n",
      "9        isbn      3346             0\n",
      "10    journal      3346             0\n",
      "11      month         1          3345\n",
      "12       note      3346             0\n",
      "13     number      3343             3\n",
      "14      pages      3346             0\n",
      "15  publisher         1          3345\n",
      "16     publnr      3346             0\n",
      "17     school      3346             0\n",
      "18     series      3346             0\n",
      "19      title         1          3345\n",
      "20        url      3346             0\n",
      "21     volume      3346             0\n",
      "22       year         1          3345\n",
      "------\n",
      "phdthesis\n",
      "     tag_type  na_count  non_na_count\n",
      "0     address    105947             0\n",
      "1      author         1        105946\n",
      "2   booktitle    105947             0\n",
      "3       cdrom    105947             0\n",
      "4     chapter    105947             0\n",
      "5        cite    105947             0\n",
      "6    crossref    105947             0\n",
      "7      editor    105947             0\n",
      "8          ee      1688        104259\n",
      "9        isbn     95868         10079\n",
      "10    journal    105947             0\n",
      "11      month    105944             3\n",
      "12       note     65719         40228\n",
      "13     number    105944             3\n",
      "14      pages     86067         19880\n",
      "15  publisher     98252          7695\n",
      "16     publnr    105947             0\n",
      "17     school        39        105908\n",
      "18     series    105414           533\n",
      "19      title         0        105947\n",
      "20        url    105947             0\n",
      "21     volume    105421           526\n",
      "22       year         0        105947\n",
      "------\n"
     ]
    }
   ],
   "source": [
    "tag_features = {} # initialise empty dictionary\n",
    "# iterate through each unique tag to determine which features is not null and are thus part of the tag\n",
    "for tag in df.tag.unique():\n",
    "    df_tag = df.loc[df['tag']==tag].drop(['tag'],axis=1) # locate rows specific to the tag\n",
    "    df_na = pd.DataFrame(df_tag.isna().sum()).reset_index() # create a dataframe of features with sum of na values\n",
    "    df_na.columns = ['tag_type','na_count'] # rename columns\n",
    "    # create new column contain count of non-na cells, calculated as (number of records for each tag - number of records with na cells)\n",
    "    df_na['non_na_count'] = len(df_tag)-df_na['na_count'] \n",
    "    print(tag)\n",
    "    print(df_na)\n",
    "    print(\"------\")\n",
    "    features = [row['tag_type'].strip() for index, row in df_na.iterrows() if row['non_na_count'] > 0] # add features to list features does not have na values\n",
    "    tag_features[tag] = features # add tag as key and features as value to dictionary"
   ]
  },
  {
   "attachments": {},
   "cell_type": "markdown",
   "metadata": {},
   "source": [
    "Listing features present for each tag"
   ]
  },
  {
   "cell_type": "code",
   "execution_count": 59,
   "metadata": {},
   "outputs": [
    {
     "name": "stdout",
     "output_type": "stream",
     "text": [
      "article ['author', 'booktitle', 'cdrom', 'cite', 'crossref', 'editor', 'ee', 'journal', 'month', 'note', 'number', 'pages', 'publisher', 'publnr', 'title', 'url', 'volume', 'year']\n",
      "book ['author', 'booktitle', 'cdrom', 'cite', 'crossref', 'editor', 'ee', 'isbn', 'month', 'note', 'pages', 'publisher', 'school', 'series', 'title', 'url', 'volume', 'year']\n",
      "proceedings ['address', 'author', 'booktitle', 'cite', 'editor', 'ee', 'isbn', 'journal', 'note', 'number', 'pages', 'publisher', 'school', 'series', 'title', 'url', 'volume', 'year']\n",
      "inproceedings ['author', 'booktitle', 'cdrom', 'cite', 'crossref', 'editor', 'ee', 'month', 'note', 'number', 'pages', 'title', 'url', 'volume', 'year']\n",
      "www ['author', 'cite', 'crossref', 'editor', 'ee', 'note', 'title', 'url', 'year']\n",
      "mastersthesis ['author', 'ee', 'note', 'school', 'title', 'year']\n",
      "incollection ['author', 'booktitle', 'cdrom', 'chapter', 'cite', 'crossref', 'ee', 'note', 'number', 'pages', 'publisher', 'title', 'url', 'year']\n",
      "data ['author', 'crossref', 'ee', 'month', 'number', 'publisher', 'title', 'year']\n",
      "phdthesis ['author', 'ee', 'isbn', 'month', 'note', 'number', 'pages', 'publisher', 'school', 'series', 'title', 'volume', 'year']\n"
     ]
    },
    {
     "data": {
      "text/plain": [
       "[None, None, None, None, None, None, None, None, None]"
      ]
     },
     "execution_count": 59,
     "metadata": {},
     "output_type": "execute_result"
    }
   ],
   "source": [
    "[print(k,v) for k,v in tag_features.items()]"
   ]
  },
  {
   "attachments": {},
   "cell_type": "markdown",
   "metadata": {},
   "source": [
    "Number of features in each document tag"
   ]
  },
  {
   "cell_type": "code",
   "execution_count": 60,
   "metadata": {},
   "outputs": [
    {
     "name": "stdout",
     "output_type": "stream",
     "text": [
      "article 18\n",
      "book 18\n",
      "proceedings 18\n",
      "inproceedings 15\n",
      "www 9\n",
      "mastersthesis 6\n",
      "incollection 14\n",
      "data 8\n",
      "phdthesis 13\n"
     ]
    },
    {
     "data": {
      "text/plain": [
       "[None, None, None, None, None, None, None, None, None]"
      ]
     },
     "execution_count": 60,
     "metadata": {},
     "output_type": "execute_result"
    }
   ],
   "source": [
    "[print(k,len(v)) for k,v in tag_features.items()]"
   ]
  }
 ],
 "metadata": {
  "kernelspec": {
   "display_name": ".venv",
   "language": "python",
   "name": "python3"
  },
  "language_info": {
   "codemirror_mode": {
    "name": "ipython",
    "version": 3
   },
   "file_extension": ".py",
   "mimetype": "text/x-python",
   "name": "python",
   "nbconvert_exporter": "python",
   "pygments_lexer": "ipython3",
   "version": "3.10.10"
  },
  "orig_nbformat": 4
 },
 "nbformat": 4,
 "nbformat_minor": 2
}
